{
 "cells": [
  {
   "cell_type": "code",
   "execution_count": 1,
   "metadata": {},
   "outputs": [],
   "source": [
    "import pandas as pd\n",
    "import numpy as np\n",
    "import matplotlib.pyplot as plt\n",
    "\n",
    "import tensorflow as tf\n",
    "from tensorflow.keras import layers\n",
    "from tensorflow.keras.models import Model\n",
    "from tensorflow.keras.optimizers import Adam\n",
    "from tensorflow.keras.layers import Activation,BatchNormalization,Input,Embedding,Dot,Dense,Flatten\n",
    "from tensorflow.keras.callbacks import ModelCheckpoint,LearningRateScheduler,TensorBoard,EarlyStopping\n",
    "\n",
    "from wordcloud import WordCloud\n",
    "%matplotlib inline"
   ]
  },
  {
   "cell_type": "markdown",
   "metadata": {},
   "source": [
    "### READING ANIMELIST.CSV"
   ]
  },
  {
   "cell_type": "code",
   "execution_count": 2,
   "metadata": {},
   "outputs": [],
   "source": [
    "import os"
   ]
  },
  {
   "cell_type": "code",
   "execution_count": 3,
   "metadata": {},
   "outputs": [],
   "source": [
    "INPUT_DIR = os.path.join(\"..\",\"artifacts\",\"raw\")"
   ]
  },
  {
   "cell_type": "code",
   "execution_count": 4,
   "metadata": {},
   "outputs": [],
   "source": [
    "rating_df = pd.read_csv(INPUT_DIR+\"/animelist.csv\" , low_memory=True,usecols=[\"user_id\",\"anime_id\",\"rating\"])"
   ]
  },
  {
   "cell_type": "code",
   "execution_count": 5,
   "metadata": {},
   "outputs": [
    {
     "data": {
      "text/html": [
       "<div>\n",
       "<style scoped>\n",
       "    .dataframe tbody tr th:only-of-type {\n",
       "        vertical-align: middle;\n",
       "    }\n",
       "\n",
       "    .dataframe tbody tr th {\n",
       "        vertical-align: top;\n",
       "    }\n",
       "\n",
       "    .dataframe thead th {\n",
       "        text-align: right;\n",
       "    }\n",
       "</style>\n",
       "<table border=\"1\" class=\"dataframe\">\n",
       "  <thead>\n",
       "    <tr style=\"text-align: right;\">\n",
       "      <th></th>\n",
       "      <th>user_id</th>\n",
       "      <th>anime_id</th>\n",
       "      <th>rating</th>\n",
       "    </tr>\n",
       "  </thead>\n",
       "  <tbody>\n",
       "    <tr>\n",
       "      <th>0</th>\n",
       "      <td>0</td>\n",
       "      <td>67</td>\n",
       "      <td>9</td>\n",
       "    </tr>\n",
       "    <tr>\n",
       "      <th>1</th>\n",
       "      <td>0</td>\n",
       "      <td>6702</td>\n",
       "      <td>7</td>\n",
       "    </tr>\n",
       "    <tr>\n",
       "      <th>2</th>\n",
       "      <td>0</td>\n",
       "      <td>242</td>\n",
       "      <td>10</td>\n",
       "    </tr>\n",
       "    <tr>\n",
       "      <th>3</th>\n",
       "      <td>0</td>\n",
       "      <td>4898</td>\n",
       "      <td>0</td>\n",
       "    </tr>\n",
       "    <tr>\n",
       "      <th>4</th>\n",
       "      <td>0</td>\n",
       "      <td>21</td>\n",
       "      <td>10</td>\n",
       "    </tr>\n",
       "  </tbody>\n",
       "</table>\n",
       "</div>"
      ],
      "text/plain": [
       "   user_id  anime_id  rating\n",
       "0        0        67       9\n",
       "1        0      6702       7\n",
       "2        0       242      10\n",
       "3        0      4898       0\n",
       "4        0        21      10"
      ]
     },
     "execution_count": 5,
     "metadata": {},
     "output_type": "execute_result"
    }
   ],
   "source": [
    "rating_df.head()"
   ]
  },
  {
   "cell_type": "code",
   "execution_count": 6,
   "metadata": {},
   "outputs": [
    {
     "data": {
      "text/plain": [
       "5000000"
      ]
     },
     "execution_count": 6,
     "metadata": {},
     "output_type": "execute_result"
    }
   ],
   "source": [
    "len(rating_df)"
   ]
  },
  {
   "cell_type": "markdown",
   "metadata": {},
   "source": [
    "#### DATA PROCESSING"
   ]
  },
  {
   "cell_type": "code",
   "execution_count": 7,
   "metadata": {},
   "outputs": [],
   "source": [
    "n_ratings = rating_df[\"user_id\"].value_counts()\n",
    "rating_df = rating_df[rating_df[\"user_id\"].isin(n_ratings[n_ratings>=400].index)].copy()"
   ]
  },
  {
   "cell_type": "code",
   "execution_count": 8,
   "metadata": {},
   "outputs": [
    {
     "data": {
      "text/plain": [
       "3246641"
      ]
     },
     "execution_count": 8,
     "metadata": {},
     "output_type": "execute_result"
    }
   ],
   "source": [
    "len(rating_df)"
   ]
  },
  {
   "cell_type": "code",
   "execution_count": 9,
   "metadata": {},
   "outputs": [],
   "source": [
    "min_rating =min(rating_df[\"rating\"])"
   ]
  },
  {
   "cell_type": "code",
   "execution_count": 10,
   "metadata": {},
   "outputs": [],
   "source": [
    "max_rating =max(rating_df[\"rating\"])"
   ]
  },
  {
   "cell_type": "code",
   "execution_count": 11,
   "metadata": {},
   "outputs": [
    {
     "data": {
      "text/plain": [
       "10"
      ]
     },
     "execution_count": 11,
     "metadata": {},
     "output_type": "execute_result"
    }
   ],
   "source": [
    "max_rating"
   ]
  },
  {
   "cell_type": "code",
   "execution_count": 12,
   "metadata": {},
   "outputs": [],
   "source": [
    "avg_rating =np.mean(rating_df[\"rating\"])"
   ]
  },
  {
   "cell_type": "code",
   "execution_count": 13,
   "metadata": {},
   "outputs": [
    {
     "data": {
      "text/plain": [
       "np.float64(4.122732695114736)"
      ]
     },
     "execution_count": 13,
     "metadata": {},
     "output_type": "execute_result"
    }
   ],
   "source": [
    "avg_rating"
   ]
  },
  {
   "cell_type": "code",
   "execution_count": 14,
   "metadata": {},
   "outputs": [],
   "source": [
    "rating_df[\"rating\"] = rating_df[\"rating\"].apply(lambda x: (x-min_rating)/(max_rating-min_rating)).values.astype(np.float64)"
   ]
  },
  {
   "cell_type": "code",
   "execution_count": 15,
   "metadata": {},
   "outputs": [
    {
     "data": {
      "text/plain": [
       "np.int64(0)"
      ]
     },
     "execution_count": 15,
     "metadata": {},
     "output_type": "execute_result"
    }
   ],
   "source": [
    "rating_df.duplicated().sum()"
   ]
  },
  {
   "cell_type": "code",
   "execution_count": 16,
   "metadata": {},
   "outputs": [
    {
     "data": {
      "text/plain": [
       "user_id     0\n",
       "anime_id    0\n",
       "rating      0\n",
       "dtype: int64"
      ]
     },
     "execution_count": 16,
     "metadata": {},
     "output_type": "execute_result"
    }
   ],
   "source": [
    "rating_df.isnull().sum()"
   ]
  },
  {
   "cell_type": "code",
   "execution_count": 17,
   "metadata": {},
   "outputs": [],
   "source": [
    "user_ids = rating_df[\"user_id\"].unique().tolist()\n",
    "user2user_encoded = {x : i for i , x in enumerate(user_ids)}\n",
    "user2user_decoded = {i : x for i , x in enumerate(user_ids)}\n",
    "rating_df[\"user\"] = rating_df[\"user_id\"].map(user2user_encoded)\n"
   ]
  },
  {
   "cell_type": "code",
   "execution_count": 18,
   "metadata": {},
   "outputs": [],
   "source": [
    "n_users = len(user2user_encoded)"
   ]
  },
  {
   "cell_type": "code",
   "execution_count": 19,
   "metadata": {},
   "outputs": [
    {
     "data": {
      "text/plain": [
       "4203"
      ]
     },
     "execution_count": 19,
     "metadata": {},
     "output_type": "execute_result"
    }
   ],
   "source": [
    "n_users"
   ]
  },
  {
   "cell_type": "code",
   "execution_count": 20,
   "metadata": {},
   "outputs": [],
   "source": [
    "## 11054 : 12  -> user2user encoded\n",
    "## 12 : 11054 ---> usser2userdecocded"
   ]
  },
  {
   "cell_type": "code",
   "execution_count": 21,
   "metadata": {},
   "outputs": [],
   "source": [
    "anime_ids = rating_df[\"anime_id\"].unique().tolist()\n",
    "anime2anime_encoded = {x : i for i , x in enumerate(anime_ids)}\n",
    "anime2anime_decoded = {i : x for i , x in enumerate(anime_ids)}\n",
    "rating_df[\"anime\"] = rating_df[\"anime_id\"].map(anime2anime_encoded)"
   ]
  },
  {
   "cell_type": "code",
   "execution_count": 22,
   "metadata": {},
   "outputs": [],
   "source": [
    "n_anime = len(anime2anime_encoded)"
   ]
  },
  {
   "cell_type": "code",
   "execution_count": 23,
   "metadata": {},
   "outputs": [
    {
     "data": {
      "text/plain": [
       "17149"
      ]
     },
     "execution_count": 23,
     "metadata": {},
     "output_type": "execute_result"
    }
   ],
   "source": [
    "n_anime"
   ]
  },
  {
   "cell_type": "code",
   "execution_count": 24,
   "metadata": {},
   "outputs": [],
   "source": [
    "rating_df = rating_df.sample(frac=1,random_state=43).reset_index(drop=True)"
   ]
  },
  {
   "cell_type": "code",
   "execution_count": 25,
   "metadata": {},
   "outputs": [
    {
     "data": {
      "text/html": [
       "<div>\n",
       "<style scoped>\n",
       "    .dataframe tbody tr th:only-of-type {\n",
       "        vertical-align: middle;\n",
       "    }\n",
       "\n",
       "    .dataframe tbody tr th {\n",
       "        vertical-align: top;\n",
       "    }\n",
       "\n",
       "    .dataframe thead th {\n",
       "        text-align: right;\n",
       "    }\n",
       "</style>\n",
       "<table border=\"1\" class=\"dataframe\">\n",
       "  <thead>\n",
       "    <tr style=\"text-align: right;\">\n",
       "      <th></th>\n",
       "      <th>user_id</th>\n",
       "      <th>anime_id</th>\n",
       "      <th>rating</th>\n",
       "      <th>user</th>\n",
       "      <th>anime</th>\n",
       "    </tr>\n",
       "  </thead>\n",
       "  <tbody>\n",
       "    <tr>\n",
       "      <th>0</th>\n",
       "      <td>457</td>\n",
       "      <td>18153</td>\n",
       "      <td>0.9</td>\n",
       "      <td>120</td>\n",
       "      <td>1377</td>\n",
       "    </tr>\n",
       "    <tr>\n",
       "      <th>1</th>\n",
       "      <td>4903</td>\n",
       "      <td>20507</td>\n",
       "      <td>0.7</td>\n",
       "      <td>1195</td>\n",
       "      <td>1216</td>\n",
       "    </tr>\n",
       "  </tbody>\n",
       "</table>\n",
       "</div>"
      ],
      "text/plain": [
       "   user_id  anime_id  rating  user  anime\n",
       "0      457     18153     0.9   120   1377\n",
       "1     4903     20507     0.7  1195   1216"
      ]
     },
     "execution_count": 25,
     "metadata": {},
     "output_type": "execute_result"
    }
   ],
   "source": [
    "rating_df.head(2)"
   ]
  },
  {
   "cell_type": "code",
   "execution_count": 26,
   "metadata": {},
   "outputs": [],
   "source": [
    "X = rating_df[[\"user\",\"anime\"]].values\n",
    "y = rating_df[\"rating\"]"
   ]
  },
  {
   "cell_type": "code",
   "execution_count": 27,
   "metadata": {},
   "outputs": [],
   "source": [
    "test_size = 1000\n",
    "train_indices = rating_df.shape[0] - test_size"
   ]
  },
  {
   "cell_type": "code",
   "execution_count": 28,
   "metadata": {},
   "outputs": [],
   "source": [
    "X_train , X_test , y_train , y_test = (\n",
    "    X[:train_indices],\n",
    "    X[train_indices :],\n",
    "    y[:train_indices],\n",
    "    y[train_indices:],\n",
    ")"
   ]
  },
  {
   "cell_type": "code",
   "execution_count": 29,
   "metadata": {},
   "outputs": [
    {
     "data": {
      "text/plain": [
       "3245641"
      ]
     },
     "execution_count": 29,
     "metadata": {},
     "output_type": "execute_result"
    }
   ],
   "source": [
    "len(X_train)"
   ]
  },
  {
   "cell_type": "code",
   "execution_count": 30,
   "metadata": {},
   "outputs": [
    {
     "data": {
      "text/plain": [
       "1000"
      ]
     },
     "execution_count": 30,
     "metadata": {},
     "output_type": "execute_result"
    }
   ],
   "source": [
    "len(X_test)"
   ]
  },
  {
   "cell_type": "code",
   "execution_count": 31,
   "metadata": {},
   "outputs": [
    {
     "data": {
      "text/plain": [
       "numpy.ndarray"
      ]
     },
     "execution_count": 31,
     "metadata": {},
     "output_type": "execute_result"
    }
   ],
   "source": [
    "type(X_train)"
   ]
  },
  {
   "cell_type": "code",
   "execution_count": 32,
   "metadata": {},
   "outputs": [],
   "source": [
    "X_train_array = [X_train[: , 0] , X_train[: ,1]]\n",
    "X_test_array = [X_test[: , 0] , X_test[: ,1]]"
   ]
  },
  {
   "cell_type": "code",
   "execution_count": 33,
   "metadata": {},
   "outputs": [
    {
     "data": {
      "text/plain": [
       "list"
      ]
     },
     "execution_count": 33,
     "metadata": {},
     "output_type": "execute_result"
    }
   ],
   "source": [
    "type(X_test_array)"
   ]
  },
  {
   "cell_type": "code",
   "execution_count": 34,
   "metadata": {},
   "outputs": [
    {
     "data": {
      "text/plain": [
       "numpy.ndarray"
      ]
     },
     "execution_count": 34,
     "metadata": {},
     "output_type": "execute_result"
    }
   ],
   "source": [
    "type(X_test_array[0])"
   ]
  },
  {
   "cell_type": "markdown",
   "metadata": {},
   "source": [
    "#### MODEL ARCHITECTURE"
   ]
  },
  {
   "cell_type": "code",
   "execution_count": 35,
   "metadata": {},
   "outputs": [],
   "source": [
    "def RecommenderNet():\n",
    "    embedding_size =128\n",
    "\n",
    "    user = Input(name=\"user\",shape=[1])\n",
    "\n",
    "    user_embedding = Embedding(name=\"user_embedding\",input_dim=n_users,output_dim=embedding_size)(user)\n",
    "\n",
    "    anime = Input(name=\"anime\",shape=[1])\n",
    "\n",
    "    anime_embedding = Embedding(name=\"anime_embedding\",input_dim=n_anime,output_dim=embedding_size)(anime)\n",
    "\n",
    "    x = Dot(name=\"dot_product\" , normalize=True , axes=2)([user_embedding,anime_embedding])\n",
    "\n",
    "    x = Flatten()(x)\n",
    "\n",
    "    x = Dense(1,kernel_initializer='he_normal')(x)\n",
    "    x = BatchNormalization()(x)\n",
    "    x = Activation(\"sigmoid\")(x)\n",
    "\n",
    "    model = Model(inputs=[user,anime], outputs=x)\n",
    "    model.compile(loss=\"binary_crossentropy\",metrics=[\"mae\",\"mse\"],optimizer='Adam')\n",
    "    return model"
   ]
  },
  {
   "cell_type": "code",
   "execution_count": 36,
   "metadata": {},
   "outputs": [],
   "source": [
    "model = RecommenderNet()"
   ]
  },
  {
   "cell_type": "code",
   "execution_count": 37,
   "metadata": {},
   "outputs": [
    {
     "data": {
      "text/html": [
       "<pre style=\"white-space:pre;overflow-x:auto;line-height:normal;font-family:Menlo,'DejaVu Sans Mono',consolas,'Courier New',monospace\"><span style=\"font-weight: bold\">Model: \"functional\"</span>\n",
       "</pre>\n"
      ],
      "text/plain": [
       "\u001b[1mModel: \"functional\"\u001b[0m\n"
      ]
     },
     "metadata": {},
     "output_type": "display_data"
    },
    {
     "data": {
      "text/html": [
       "<pre style=\"white-space:pre;overflow-x:auto;line-height:normal;font-family:Menlo,'DejaVu Sans Mono',consolas,'Courier New',monospace\">┏━━━━━━━━━━━━━━━━━━━━━┳━━━━━━━━━━━━━━━━━━━┳━━━━━━━━━━━━┳━━━━━━━━━━━━━━━━━━━┓\n",
       "┃<span style=\"font-weight: bold\"> Layer (type)        </span>┃<span style=\"font-weight: bold\"> Output Shape      </span>┃<span style=\"font-weight: bold\">    Param # </span>┃<span style=\"font-weight: bold\"> Connected to      </span>┃\n",
       "┡━━━━━━━━━━━━━━━━━━━━━╇━━━━━━━━━━━━━━━━━━━╇━━━━━━━━━━━━╇━━━━━━━━━━━━━━━━━━━┩\n",
       "│ user (<span style=\"color: #0087ff; text-decoration-color: #0087ff\">InputLayer</span>)   │ (<span style=\"color: #00d7ff; text-decoration-color: #00d7ff\">None</span>, <span style=\"color: #00af00; text-decoration-color: #00af00\">1</span>)         │          <span style=\"color: #00af00; text-decoration-color: #00af00\">0</span> │ -                 │\n",
       "├─────────────────────┼───────────────────┼────────────┼───────────────────┤\n",
       "│ anime (<span style=\"color: #0087ff; text-decoration-color: #0087ff\">InputLayer</span>)  │ (<span style=\"color: #00d7ff; text-decoration-color: #00d7ff\">None</span>, <span style=\"color: #00af00; text-decoration-color: #00af00\">1</span>)         │          <span style=\"color: #00af00; text-decoration-color: #00af00\">0</span> │ -                 │\n",
       "├─────────────────────┼───────────────────┼────────────┼───────────────────┤\n",
       "│ user_embedding      │ (<span style=\"color: #00d7ff; text-decoration-color: #00d7ff\">None</span>, <span style=\"color: #00af00; text-decoration-color: #00af00\">1</span>, <span style=\"color: #00af00; text-decoration-color: #00af00\">128</span>)    │    <span style=\"color: #00af00; text-decoration-color: #00af00\">537,984</span> │ user[<span style=\"color: #00af00; text-decoration-color: #00af00\">0</span>][<span style=\"color: #00af00; text-decoration-color: #00af00\">0</span>]        │\n",
       "│ (<span style=\"color: #0087ff; text-decoration-color: #0087ff\">Embedding</span>)         │                   │            │                   │\n",
       "├─────────────────────┼───────────────────┼────────────┼───────────────────┤\n",
       "│ anime_embedding     │ (<span style=\"color: #00d7ff; text-decoration-color: #00d7ff\">None</span>, <span style=\"color: #00af00; text-decoration-color: #00af00\">1</span>, <span style=\"color: #00af00; text-decoration-color: #00af00\">128</span>)    │  <span style=\"color: #00af00; text-decoration-color: #00af00\">2,195,072</span> │ anime[<span style=\"color: #00af00; text-decoration-color: #00af00\">0</span>][<span style=\"color: #00af00; text-decoration-color: #00af00\">0</span>]       │\n",
       "│ (<span style=\"color: #0087ff; text-decoration-color: #0087ff\">Embedding</span>)         │                   │            │                   │\n",
       "├─────────────────────┼───────────────────┼────────────┼───────────────────┤\n",
       "│ dot_product (<span style=\"color: #0087ff; text-decoration-color: #0087ff\">Dot</span>)   │ (<span style=\"color: #00d7ff; text-decoration-color: #00d7ff\">None</span>, <span style=\"color: #00af00; text-decoration-color: #00af00\">1</span>, <span style=\"color: #00af00; text-decoration-color: #00af00\">1</span>)      │          <span style=\"color: #00af00; text-decoration-color: #00af00\">0</span> │ user_embedding[<span style=\"color: #00af00; text-decoration-color: #00af00\">0</span>… │\n",
       "│                     │                   │            │ anime_embedding[<span style=\"color: #00af00; text-decoration-color: #00af00\">…</span> │\n",
       "├─────────────────────┼───────────────────┼────────────┼───────────────────┤\n",
       "│ flatten (<span style=\"color: #0087ff; text-decoration-color: #0087ff\">Flatten</span>)   │ (<span style=\"color: #00d7ff; text-decoration-color: #00d7ff\">None</span>, <span style=\"color: #00af00; text-decoration-color: #00af00\">1</span>)         │          <span style=\"color: #00af00; text-decoration-color: #00af00\">0</span> │ dot_product[<span style=\"color: #00af00; text-decoration-color: #00af00\">0</span>][<span style=\"color: #00af00; text-decoration-color: #00af00\">0</span>] │\n",
       "├─────────────────────┼───────────────────┼────────────┼───────────────────┤\n",
       "│ dense (<span style=\"color: #0087ff; text-decoration-color: #0087ff\">Dense</span>)       │ (<span style=\"color: #00d7ff; text-decoration-color: #00d7ff\">None</span>, <span style=\"color: #00af00; text-decoration-color: #00af00\">1</span>)         │          <span style=\"color: #00af00; text-decoration-color: #00af00\">2</span> │ flatten[<span style=\"color: #00af00; text-decoration-color: #00af00\">0</span>][<span style=\"color: #00af00; text-decoration-color: #00af00\">0</span>]     │\n",
       "├─────────────────────┼───────────────────┼────────────┼───────────────────┤\n",
       "│ batch_normalization │ (<span style=\"color: #00d7ff; text-decoration-color: #00d7ff\">None</span>, <span style=\"color: #00af00; text-decoration-color: #00af00\">1</span>)         │          <span style=\"color: #00af00; text-decoration-color: #00af00\">4</span> │ dense[<span style=\"color: #00af00; text-decoration-color: #00af00\">0</span>][<span style=\"color: #00af00; text-decoration-color: #00af00\">0</span>]       │\n",
       "│ (<span style=\"color: #0087ff; text-decoration-color: #0087ff\">BatchNormalizatio…</span> │                   │            │                   │\n",
       "├─────────────────────┼───────────────────┼────────────┼───────────────────┤\n",
       "│ activation          │ (<span style=\"color: #00d7ff; text-decoration-color: #00d7ff\">None</span>, <span style=\"color: #00af00; text-decoration-color: #00af00\">1</span>)         │          <span style=\"color: #00af00; text-decoration-color: #00af00\">0</span> │ batch_normalizat… │\n",
       "│ (<span style=\"color: #0087ff; text-decoration-color: #0087ff\">Activation</span>)        │                   │            │                   │\n",
       "└─────────────────────┴───────────────────┴────────────┴───────────────────┘\n",
       "</pre>\n"
      ],
      "text/plain": [
       "┏━━━━━━━━━━━━━━━━━━━━━┳━━━━━━━━━━━━━━━━━━━┳━━━━━━━━━━━━┳━━━━━━━━━━━━━━━━━━━┓\n",
       "┃\u001b[1m \u001b[0m\u001b[1mLayer (type)       \u001b[0m\u001b[1m \u001b[0m┃\u001b[1m \u001b[0m\u001b[1mOutput Shape     \u001b[0m\u001b[1m \u001b[0m┃\u001b[1m \u001b[0m\u001b[1m   Param #\u001b[0m\u001b[1m \u001b[0m┃\u001b[1m \u001b[0m\u001b[1mConnected to     \u001b[0m\u001b[1m \u001b[0m┃\n",
       "┡━━━━━━━━━━━━━━━━━━━━━╇━━━━━━━━━━━━━━━━━━━╇━━━━━━━━━━━━╇━━━━━━━━━━━━━━━━━━━┩\n",
       "│ user (\u001b[38;5;33mInputLayer\u001b[0m)   │ (\u001b[38;5;45mNone\u001b[0m, \u001b[38;5;34m1\u001b[0m)         │          \u001b[38;5;34m0\u001b[0m │ -                 │\n",
       "├─────────────────────┼───────────────────┼────────────┼───────────────────┤\n",
       "│ anime (\u001b[38;5;33mInputLayer\u001b[0m)  │ (\u001b[38;5;45mNone\u001b[0m, \u001b[38;5;34m1\u001b[0m)         │          \u001b[38;5;34m0\u001b[0m │ -                 │\n",
       "├─────────────────────┼───────────────────┼────────────┼───────────────────┤\n",
       "│ user_embedding      │ (\u001b[38;5;45mNone\u001b[0m, \u001b[38;5;34m1\u001b[0m, \u001b[38;5;34m128\u001b[0m)    │    \u001b[38;5;34m537,984\u001b[0m │ user[\u001b[38;5;34m0\u001b[0m][\u001b[38;5;34m0\u001b[0m]        │\n",
       "│ (\u001b[38;5;33mEmbedding\u001b[0m)         │                   │            │                   │\n",
       "├─────────────────────┼───────────────────┼────────────┼───────────────────┤\n",
       "│ anime_embedding     │ (\u001b[38;5;45mNone\u001b[0m, \u001b[38;5;34m1\u001b[0m, \u001b[38;5;34m128\u001b[0m)    │  \u001b[38;5;34m2,195,072\u001b[0m │ anime[\u001b[38;5;34m0\u001b[0m][\u001b[38;5;34m0\u001b[0m]       │\n",
       "│ (\u001b[38;5;33mEmbedding\u001b[0m)         │                   │            │                   │\n",
       "├─────────────────────┼───────────────────┼────────────┼───────────────────┤\n",
       "│ dot_product (\u001b[38;5;33mDot\u001b[0m)   │ (\u001b[38;5;45mNone\u001b[0m, \u001b[38;5;34m1\u001b[0m, \u001b[38;5;34m1\u001b[0m)      │          \u001b[38;5;34m0\u001b[0m │ user_embedding[\u001b[38;5;34m0\u001b[0m… │\n",
       "│                     │                   │            │ anime_embedding[\u001b[38;5;34m…\u001b[0m │\n",
       "├─────────────────────┼───────────────────┼────────────┼───────────────────┤\n",
       "│ flatten (\u001b[38;5;33mFlatten\u001b[0m)   │ (\u001b[38;5;45mNone\u001b[0m, \u001b[38;5;34m1\u001b[0m)         │          \u001b[38;5;34m0\u001b[0m │ dot_product[\u001b[38;5;34m0\u001b[0m][\u001b[38;5;34m0\u001b[0m] │\n",
       "├─────────────────────┼───────────────────┼────────────┼───────────────────┤\n",
       "│ dense (\u001b[38;5;33mDense\u001b[0m)       │ (\u001b[38;5;45mNone\u001b[0m, \u001b[38;5;34m1\u001b[0m)         │          \u001b[38;5;34m2\u001b[0m │ flatten[\u001b[38;5;34m0\u001b[0m][\u001b[38;5;34m0\u001b[0m]     │\n",
       "├─────────────────────┼───────────────────┼────────────┼───────────────────┤\n",
       "│ batch_normalization │ (\u001b[38;5;45mNone\u001b[0m, \u001b[38;5;34m1\u001b[0m)         │          \u001b[38;5;34m4\u001b[0m │ dense[\u001b[38;5;34m0\u001b[0m][\u001b[38;5;34m0\u001b[0m]       │\n",
       "│ (\u001b[38;5;33mBatchNormalizatio…\u001b[0m │                   │            │                   │\n",
       "├─────────────────────┼───────────────────┼────────────┼───────────────────┤\n",
       "│ activation          │ (\u001b[38;5;45mNone\u001b[0m, \u001b[38;5;34m1\u001b[0m)         │          \u001b[38;5;34m0\u001b[0m │ batch_normalizat… │\n",
       "│ (\u001b[38;5;33mActivation\u001b[0m)        │                   │            │                   │\n",
       "└─────────────────────┴───────────────────┴────────────┴───────────────────┘\n"
      ]
     },
     "metadata": {},
     "output_type": "display_data"
    },
    {
     "data": {
      "text/html": [
       "<pre style=\"white-space:pre;overflow-x:auto;line-height:normal;font-family:Menlo,'DejaVu Sans Mono',consolas,'Courier New',monospace\"><span style=\"font-weight: bold\"> Total params: </span><span style=\"color: #00af00; text-decoration-color: #00af00\">2,733,062</span> (10.43 MB)\n",
       "</pre>\n"
      ],
      "text/plain": [
       "\u001b[1m Total params: \u001b[0m\u001b[38;5;34m2,733,062\u001b[0m (10.43 MB)\n"
      ]
     },
     "metadata": {},
     "output_type": "display_data"
    },
    {
     "data": {
      "text/html": [
       "<pre style=\"white-space:pre;overflow-x:auto;line-height:normal;font-family:Menlo,'DejaVu Sans Mono',consolas,'Courier New',monospace\"><span style=\"font-weight: bold\"> Trainable params: </span><span style=\"color: #00af00; text-decoration-color: #00af00\">2,733,060</span> (10.43 MB)\n",
       "</pre>\n"
      ],
      "text/plain": [
       "\u001b[1m Trainable params: \u001b[0m\u001b[38;5;34m2,733,060\u001b[0m (10.43 MB)\n"
      ]
     },
     "metadata": {},
     "output_type": "display_data"
    },
    {
     "data": {
      "text/html": [
       "<pre style=\"white-space:pre;overflow-x:auto;line-height:normal;font-family:Menlo,'DejaVu Sans Mono',consolas,'Courier New',monospace\"><span style=\"font-weight: bold\"> Non-trainable params: </span><span style=\"color: #00af00; text-decoration-color: #00af00\">2</span> (8.00 B)\n",
       "</pre>\n"
      ],
      "text/plain": [
       "\u001b[1m Non-trainable params: \u001b[0m\u001b[38;5;34m2\u001b[0m (8.00 B)\n"
      ]
     },
     "metadata": {},
     "output_type": "display_data"
    }
   ],
   "source": [
    "model.summary()"
   ]
  },
  {
   "cell_type": "code",
   "execution_count": 38,
   "metadata": {},
   "outputs": [],
   "source": [
    "start_lr = 0.00001\n",
    "min_lr = 0.0001\n",
    "max_lr = 0.00005\n",
    "batch_size = 10000\n",
    "\n",
    "ramup_epochs = 5\n",
    "sustain_epochs = 0\n",
    "exp_decay = 0.8\n",
    "\n",
    "def lrfn(epoch):\n",
    "    if epoch<ramup_epochs:\n",
    "        return (max_lr-start_lr)/ramup_epochs*epoch + start_lr\n",
    "    elif epoch<ramup_epochs+sustain_epochs:\n",
    "        return max_lr\n",
    "    else:\n",
    "        return (max_lr-min_lr) * exp_decay ** (epoch-ramup_epochs-sustain_epochs)+min_lr"
   ]
  },
  {
   "cell_type": "code",
   "execution_count": 39,
   "metadata": {},
   "outputs": [],
   "source": [
    "lr_callback = LearningRateScheduler(lambda epoch:lrfn(epoch) , verbose=0)\n",
    "checkpoint_filepath = './weights.weights.h5'\n",
    "\n",
    "model_checkpoint = ModelCheckpoint(filepath=checkpoint_filepath,save_weights_only=True,monitor=\"val_loss\",mode=\"min\",save_best_only=True)\n",
    "\n",
    "early_stopping = EarlyStopping(patience=3,monitor=\"val_loss\",mode=\"min\",restore_best_weights=True)"
   ]
  },
  {
   "cell_type": "code",
   "execution_count": 40,
   "metadata": {},
   "outputs": [],
   "source": [
    "my_callbacks = [model_checkpoint,lr_callback,early_stopping]"
   ]
  },
  {
   "cell_type": "code",
   "execution_count": 41,
   "metadata": {},
   "outputs": [
    {
     "name": "stdout",
     "output_type": "stream",
     "text": [
      "Epoch 1/20\n",
      "\u001b[1m325/325\u001b[0m \u001b[32m━━━━━━━━━━━━━━━━━━━━\u001b[0m\u001b[37m\u001b[0m \u001b[1m18s\u001b[0m 51ms/step - loss: 0.8042 - mae: 0.3829 - mse: 0.1985 - val_loss: 0.7645 - val_mae: 0.3815 - val_mse: 0.1869 - learning_rate: 1.0000e-05\n",
      "Epoch 2/20\n",
      "\u001b[1m325/325\u001b[0m \u001b[32m━━━━━━━━━━━━━━━━━━━━\u001b[0m\u001b[37m\u001b[0m \u001b[1m14s\u001b[0m 43ms/step - loss: 0.8007 - mae: 0.3814 - mse: 0.1971 - val_loss: 0.8070 - val_mae: 0.3911 - val_mse: 0.2017 - learning_rate: 1.8000e-05\n",
      "Epoch 3/20\n",
      "\u001b[1m325/325\u001b[0m \u001b[32m━━━━━━━━━━━━━━━━━━━━\u001b[0m\u001b[37m\u001b[0m \u001b[1m14s\u001b[0m 43ms/step - loss: 0.7945 - mae: 0.3792 - mse: 0.1947 - val_loss: 0.8074 - val_mae: 0.3911 - val_mse: 0.2017 - learning_rate: 2.6000e-05\n",
      "Epoch 4/20\n",
      "\u001b[1m325/325\u001b[0m \u001b[32m━━━━━━━━━━━━━━━━━━━━\u001b[0m\u001b[37m\u001b[0m \u001b[1m14s\u001b[0m 43ms/step - loss: 0.7864 - mae: 0.3760 - mse: 0.1914 - val_loss: 0.8038 - val_mae: 0.3900 - val_mse: 0.2003 - learning_rate: 3.4000e-05\n"
     ]
    }
   ],
   "source": [
    "history = model.fit(\n",
    "    x=X_train_array,\n",
    "    y=y_train,\n",
    "    batch_size=batch_size,\n",
    "    epochs=20,\n",
    "    verbose=1,\n",
    "    validation_data = (X_test_array,y_test),\n",
    "    callbacks=my_callbacks\n",
    ")"
   ]
  },
  {
   "cell_type": "code",
   "execution_count": 42,
   "metadata": {},
   "outputs": [],
   "source": [
    "model.load_weights(checkpoint_filepath)"
   ]
  },
  {
   "cell_type": "code",
   "execution_count": 43,
   "metadata": {},
   "outputs": [
    {
     "data": {
      "image/png": "[encoded data removed]",
      "text/plain": [
       "<Figure size 800x1200 with 3 Axes>"
      ]
     },
     "metadata": {},
     "output_type": "display_data"
    }
   ],
   "source": [
    "metrics = [\"loss\", \"mae\", \"mse\"]\n",
    "\n",
    "# Create subplots\n",
    "fig, axes = plt.subplots(len(metrics), 1, figsize=(8, len(metrics) * 4))\n",
    "\n",
    "for i, metric in enumerate(metrics):\n",
    "    ax = axes[i]\n",
    "    ax.plot(history.history[metric][0:-2], marker=\"o\", label=f\"train {metric}\")\n",
    "    ax.plot(history.history[f\"val_{metric}\"][0:-2], marker=\"o\", label=f\"test {metric}\")\n",
    "    ax.set_title(f\"Model {metric.capitalize()}\")\n",
    "    ax.set_ylabel(metric.capitalize())\n",
    "    ax.set_xlabel(\"Epoch\")\n",
    "    ax.legend(loc=\"upper left\")\n",
    "    ax.grid(True)\n",
    "\n",
    "plt.tight_layout()\n",
    "plt.show()"
   ]
  },
  {
   "cell_type": "code",
   "execution_count": 44,
   "metadata": {},
   "outputs": [],
   "source": [
    "def extract_weights(name,model):\n",
    "    weight_layer = model.get_layer(name)\n",
    "    weights = weight_layer.get_weights()[0]\n",
    "    weights = weights/np.linalg.norm(weights,axis=1).reshape((-1,1))\n",
    "    return weights"
   ]
  },
  {
   "cell_type": "code",
   "execution_count": 45,
   "metadata": {},
   "outputs": [],
   "source": [
    "anime_weights = extract_weights(\"anime_embedding\",model)"
   ]
  },
  {
   "cell_type": "code",
   "execution_count": 46,
   "metadata": {},
   "outputs": [],
   "source": [
    "user_weights = extract_weights(\"user_embedding\",model)"
   ]
  },
  {
   "cell_type": "markdown",
   "metadata": {},
   "source": [
    "#### READING ANIME.CSV"
   ]
  },
  {
   "cell_type": "code",
   "execution_count": 47,
   "metadata": {},
   "outputs": [
    {
     "data": {
      "text/html": [
       "<div>\n",
       "<style scoped>\n",
       "    .dataframe tbody tr th:only-of-type {\n",
       "        vertical-align: middle;\n",
       "    }\n",
       "\n",
       "    .dataframe tbody tr th {\n",
       "        vertical-align: top;\n",
       "    }\n",
       "\n",
       "    .dataframe thead th {\n",
       "        text-align: right;\n",
       "    }\n",
       "</style>\n",
       "<table border=\"1\" class=\"dataframe\">\n",
       "  <thead>\n",
       "    <tr style=\"text-align: right;\">\n",
       "      <th></th>\n",
       "      <th>MAL_ID</th>\n",
       "      <th>Name</th>\n",
       "      <th>Score</th>\n",
       "      <th>Genres</th>\n",
       "      <th>English name</th>\n",
       "      <th>Japanese name</th>\n",
       "      <th>Type</th>\n",
       "      <th>Episodes</th>\n",
       "      <th>Aired</th>\n",
       "      <th>Premiered</th>\n",
       "      <th>...</th>\n",
       "      <th>Score-10</th>\n",
       "      <th>Score-9</th>\n",
       "      <th>Score-8</th>\n",
       "      <th>Score-7</th>\n",
       "      <th>Score-6</th>\n",
       "      <th>Score-5</th>\n",
       "      <th>Score-4</th>\n",
       "      <th>Score-3</th>\n",
       "      <th>Score-2</th>\n",
       "      <th>Score-1</th>\n",
       "    </tr>\n",
       "  </thead>\n",
       "  <tbody>\n",
       "    <tr>\n",
       "      <th>0</th>\n",
       "      <td>1</td>\n",
       "      <td>Cowboy Bebop</td>\n",
       "      <td>8.78</td>\n",
       "      <td>Action, Adventure, Comedy, Drama, Sci-Fi, Space</td>\n",
       "      <td>Cowboy Bebop</td>\n",
       "      <td>カウボーイビバップ</td>\n",
       "      <td>TV</td>\n",
       "      <td>26</td>\n",
       "      <td>Apr 3, 1998 to Apr 24, 1999</td>\n",
       "      <td>Spring 1998</td>\n",
       "      <td>...</td>\n",
       "      <td>229170.0</td>\n",
       "      <td>182126.0</td>\n",
       "      <td>131625.0</td>\n",
       "      <td>62330.0</td>\n",
       "      <td>20688.0</td>\n",
       "      <td>8904.0</td>\n",
       "      <td>3184.0</td>\n",
       "      <td>1357.0</td>\n",
       "      <td>741.0</td>\n",
       "      <td>1580.0</td>\n",
       "    </tr>\n",
       "    <tr>\n",
       "      <th>1</th>\n",
       "      <td>5</td>\n",
       "      <td>Cowboy Bebop: Tengoku no Tobira</td>\n",
       "      <td>8.39</td>\n",
       "      <td>Action, Drama, Mystery, Sci-Fi, Space</td>\n",
       "      <td>Cowboy Bebop:The Movie</td>\n",
       "      <td>カウボーイビバップ 天国の扉</td>\n",
       "      <td>Movie</td>\n",
       "      <td>1</td>\n",
       "      <td>Sep 1, 2001</td>\n",
       "      <td>Unknown</td>\n",
       "      <td>...</td>\n",
       "      <td>30043.0</td>\n",
       "      <td>49201.0</td>\n",
       "      <td>49505.0</td>\n",
       "      <td>22632.0</td>\n",
       "      <td>5805.0</td>\n",
       "      <td>1877.0</td>\n",
       "      <td>577.0</td>\n",
       "      <td>221.0</td>\n",
       "      <td>109.0</td>\n",
       "      <td>379.0</td>\n",
       "    </tr>\n",
       "  </tbody>\n",
       "</table>\n",
       "<p>2 rows × 35 columns</p>\n",
       "</div>"
      ],
      "text/plain": [
       "   MAL_ID                             Name Score  \\\n",
       "0       1                     Cowboy Bebop  8.78   \n",
       "1       5  Cowboy Bebop: Tengoku no Tobira  8.39   \n",
       "\n",
       "                                            Genres            English name  \\\n",
       "0  Action, Adventure, Comedy, Drama, Sci-Fi, Space            Cowboy Bebop   \n",
       "1            Action, Drama, Mystery, Sci-Fi, Space  Cowboy Bebop:The Movie   \n",
       "\n",
       "    Japanese name   Type Episodes                        Aired    Premiered  \\\n",
       "0       カウボーイビバップ     TV       26  Apr 3, 1998 to Apr 24, 1999  Spring 1998   \n",
       "1  カウボーイビバップ 天国の扉  Movie        1                  Sep 1, 2001      Unknown   \n",
       "\n",
       "   ...  Score-10   Score-9   Score-8  Score-7  Score-6 Score-5 Score-4  \\\n",
       "0  ...  229170.0  182126.0  131625.0  62330.0  20688.0  8904.0  3184.0   \n",
       "1  ...   30043.0   49201.0   49505.0  22632.0   5805.0  1877.0   577.0   \n",
       "\n",
       "   Score-3  Score-2  Score-1  \n",
       "0   1357.0    741.0   1580.0  \n",
       "1    221.0    109.0    379.0  \n",
       "\n",
       "[2 rows x 35 columns]"
      ]
     },
     "execution_count": 47,
     "metadata": {},
     "output_type": "execute_result"
    }
   ],
   "source": [
    "df = pd.read_csv(INPUT_DIR+\"/anime.csv\",low_memory=True)\n",
    "df.head(2)"
   ]
  },
  {
   "cell_type": "code",
   "execution_count": 48,
   "metadata": {},
   "outputs": [],
   "source": [
    "df = df.replace(\"Unknown\",np.nan)"
   ]
  },
  {
   "cell_type": "code",
   "execution_count": 49,
   "metadata": {},
   "outputs": [],
   "source": [
    "def getAnimeName(anime_id):\n",
    "    try:\n",
    "        name = df[df.anime_id == anime_id].eng_version.values[0]\n",
    "        if name is np.nan:\n",
    "            name = df[df.anime_id == anime_id].Name.values[0]\n",
    "    except:\n",
    "        print(\"Error\")\n",
    "    return name"
   ]
  },
  {
   "cell_type": "code",
   "execution_count": 50,
   "metadata": {},
   "outputs": [],
   "source": [
    "df[\"anime_id\"] = df[\"MAL_ID\"]\n",
    "df[\"eng_version\"] = df[\"English name\"]\n",
    "df[\"eng_version\"] = df.anime_id.apply(lambda x:getAnimeName(x))"
   ]
  },
  {
   "cell_type": "code",
   "execution_count": 51,
   "metadata": {},
   "outputs": [
    {
     "data": {
      "text/plain": [
       "'Fairy Tail'"
      ]
     },
     "execution_count": 51,
     "metadata": {},
     "output_type": "execute_result"
    }
   ],
   "source": [
    "getAnimeName(6702)"
   ]
  },
  {
   "cell_type": "code",
   "execution_count": 52,
   "metadata": {},
   "outputs": [],
   "source": [
    "df.sort_values(by=[\"Score\"],\n",
    "               inplace=True,\n",
    "               ascending=False,\n",
    "               kind=\"quicksort\",\n",
    "               na_position=\"last\")"
   ]
  },
  {
   "cell_type": "code",
   "execution_count": 53,
   "metadata": {},
   "outputs": [
    {
     "data": {
      "text/plain": [
       "Index(['MAL_ID', 'Name', 'Score', 'Genres', 'English name', 'Japanese name',\n",
       "       'Type', 'Episodes', 'Aired', 'Premiered', 'Producers', 'Licensors',\n",
       "       'Studios', 'Source', 'Duration', 'Rating', 'Ranked', 'Popularity',\n",
       "       'Members', 'Favorites', 'Watching', 'Completed', 'On-Hold', 'Dropped',\n",
       "       'Plan to Watch', 'Score-10', 'Score-9', 'Score-8', 'Score-7', 'Score-6',\n",
       "       'Score-5', 'Score-4', 'Score-3', 'Score-2', 'Score-1', 'anime_id',\n",
       "       'eng_version'],\n",
       "      dtype='object')"
      ]
     },
     "execution_count": 53,
     "metadata": {},
     "output_type": "execute_result"
    }
   ],
   "source": [
    "df.columns"
   ]
  },
  {
   "cell_type": "code",
   "execution_count": 54,
   "metadata": {},
   "outputs": [],
   "source": [
    "df = df[[\"anime_id\" , \"eng_version\",\"Score\",\"Genres\",\"Episodes\",\"Type\",\"Premiered\",\"Members\"]]"
   ]
  },
  {
   "cell_type": "code",
   "execution_count": 55,
   "metadata": {},
   "outputs": [
    {
     "data": {
      "text/html": [
       "<div>\n",
       "<style scoped>\n",
       "    .dataframe tbody tr th:only-of-type {\n",
       "        vertical-align: middle;\n",
       "    }\n",
       "\n",
       "    .dataframe tbody tr th {\n",
       "        vertical-align: top;\n",
       "    }\n",
       "\n",
       "    .dataframe thead th {\n",
       "        text-align: right;\n",
       "    }\n",
       "</style>\n",
       "<table border=\"1\" class=\"dataframe\">\n",
       "  <thead>\n",
       "    <tr style=\"text-align: right;\">\n",
       "      <th></th>\n",
       "      <th>anime_id</th>\n",
       "      <th>eng_version</th>\n",
       "      <th>Score</th>\n",
       "      <th>Genres</th>\n",
       "      <th>Episodes</th>\n",
       "      <th>Type</th>\n",
       "      <th>Premiered</th>\n",
       "      <th>Members</th>\n",
       "    </tr>\n",
       "  </thead>\n",
       "  <tbody>\n",
       "    <tr>\n",
       "      <th>3971</th>\n",
       "      <td>5114</td>\n",
       "      <td>Fullmetal Alchemist:Brotherhood</td>\n",
       "      <td>9.19</td>\n",
       "      <td>Action, Military, Adventure, Comedy, Drama, Ma...</td>\n",
       "      <td>64</td>\n",
       "      <td>TV</td>\n",
       "      <td>Spring 2009</td>\n",
       "      <td>2248456</td>\n",
       "    </tr>\n",
       "    <tr>\n",
       "      <th>15926</th>\n",
       "      <td>40028</td>\n",
       "      <td>Attack on Titan Final Season</td>\n",
       "      <td>9.17</td>\n",
       "      <td>Action, Military, Mystery, Super Power, Drama,...</td>\n",
       "      <td>16</td>\n",
       "      <td>TV</td>\n",
       "      <td>Winter 2021</td>\n",
       "      <td>733260</td>\n",
       "    </tr>\n",
       "    <tr>\n",
       "      <th>5683</th>\n",
       "      <td>9253</td>\n",
       "      <td>Steins;Gate</td>\n",
       "      <td>9.11</td>\n",
       "      <td>Thriller, Sci-Fi</td>\n",
       "      <td>24</td>\n",
       "      <td>TV</td>\n",
       "      <td>Spring 2011</td>\n",
       "      <td>1771162</td>\n",
       "    </tr>\n",
       "    <tr>\n",
       "      <th>14963</th>\n",
       "      <td>38524</td>\n",
       "      <td>Attack on Titan Season 3 Part 2</td>\n",
       "      <td>9.1</td>\n",
       "      <td>Action, Drama, Fantasy, Military, Mystery, Sho...</td>\n",
       "      <td>10</td>\n",
       "      <td>TV</td>\n",
       "      <td>Spring 2019</td>\n",
       "      <td>1073626</td>\n",
       "    </tr>\n",
       "    <tr>\n",
       "      <th>9913</th>\n",
       "      <td>28977</td>\n",
       "      <td>Gintama Season 4</td>\n",
       "      <td>9.1</td>\n",
       "      <td>Action, Comedy, Historical, Parody, Samurai, S...</td>\n",
       "      <td>51</td>\n",
       "      <td>TV</td>\n",
       "      <td>Spring 2015</td>\n",
       "      <td>404121</td>\n",
       "    </tr>\n",
       "  </tbody>\n",
       "</table>\n",
       "</div>"
      ],
      "text/plain": [
       "       anime_id                      eng_version Score  \\\n",
       "3971       5114  Fullmetal Alchemist:Brotherhood  9.19   \n",
       "15926     40028     Attack on Titan Final Season  9.17   \n",
       "5683       9253                      Steins;Gate  9.11   \n",
       "14963     38524  Attack on Titan Season 3 Part 2   9.1   \n",
       "9913      28977                 Gintama Season 4   9.1   \n",
       "\n",
       "                                                  Genres Episodes Type  \\\n",
       "3971   Action, Military, Adventure, Comedy, Drama, Ma...       64   TV   \n",
       "15926  Action, Military, Mystery, Super Power, Drama,...       16   TV   \n",
       "5683                                    Thriller, Sci-Fi       24   TV   \n",
       "14963  Action, Drama, Fantasy, Military, Mystery, Sho...       10   TV   \n",
       "9913   Action, Comedy, Historical, Parody, Samurai, S...       51   TV   \n",
       "\n",
       "         Premiered  Members  \n",
       "3971   Spring 2009  2248456  \n",
       "15926  Winter 2021   733260  \n",
       "5683   Spring 2011  1771162  \n",
       "14963  Spring 2019  1073626  \n",
       "9913   Spring 2015   404121  "
      ]
     },
     "execution_count": 55,
     "metadata": {},
     "output_type": "execute_result"
    }
   ],
   "source": [
    "df.head()"
   ]
  },
  {
   "cell_type": "code",
   "execution_count": 56,
   "metadata": {},
   "outputs": [],
   "source": [
    "def getAnimeFrame(anime,df):\n",
    "    if isinstance(anime,int):\n",
    "        return df[df.anime_id == anime]\n",
    "    if isinstance(anime,str):\n",
    "        return df[df.eng_version == anime]\n",
    "    "
   ]
  },
  {
   "cell_type": "code",
   "execution_count": 57,
   "metadata": {},
   "outputs": [
    {
     "data": {
      "text/html": [
       "<div>\n",
       "<style scoped>\n",
       "    .dataframe tbody tr th:only-of-type {\n",
       "        vertical-align: middle;\n",
       "    }\n",
       "\n",
       "    .dataframe tbody tr th {\n",
       "        vertical-align: top;\n",
       "    }\n",
       "\n",
       "    .dataframe thead th {\n",
       "        text-align: right;\n",
       "    }\n",
       "</style>\n",
       "<table border=\"1\" class=\"dataframe\">\n",
       "  <thead>\n",
       "    <tr style=\"text-align: right;\">\n",
       "      <th></th>\n",
       "      <th>anime_id</th>\n",
       "      <th>eng_version</th>\n",
       "      <th>Score</th>\n",
       "      <th>Genres</th>\n",
       "      <th>Episodes</th>\n",
       "      <th>Type</th>\n",
       "      <th>Premiered</th>\n",
       "      <th>Members</th>\n",
       "    </tr>\n",
       "  </thead>\n",
       "  <tbody>\n",
       "    <tr>\n",
       "      <th>15926</th>\n",
       "      <td>40028</td>\n",
       "      <td>Attack on Titan Final Season</td>\n",
       "      <td>9.17</td>\n",
       "      <td>Action, Military, Mystery, Super Power, Drama,...</td>\n",
       "      <td>16</td>\n",
       "      <td>TV</td>\n",
       "      <td>Winter 2021</td>\n",
       "      <td>733260</td>\n",
       "    </tr>\n",
       "  </tbody>\n",
       "</table>\n",
       "</div>"
      ],
      "text/plain": [
       "       anime_id                   eng_version Score  \\\n",
       "15926     40028  Attack on Titan Final Season  9.17   \n",
       "\n",
       "                                                  Genres Episodes Type  \\\n",
       "15926  Action, Military, Mystery, Super Power, Drama,...       16   TV   \n",
       "\n",
       "         Premiered  Members  \n",
       "15926  Winter 2021   733260  "
      ]
     },
     "execution_count": 57,
     "metadata": {},
     "output_type": "execute_result"
    }
   ],
   "source": [
    "getAnimeFrame(40028 , df)"
   ]
  },
  {
   "cell_type": "code",
   "execution_count": 58,
   "metadata": {},
   "outputs": [
    {
     "data": {
      "text/html": [
       "<div>\n",
       "<style scoped>\n",
       "    .dataframe tbody tr th:only-of-type {\n",
       "        vertical-align: middle;\n",
       "    }\n",
       "\n",
       "    .dataframe tbody tr th {\n",
       "        vertical-align: top;\n",
       "    }\n",
       "\n",
       "    .dataframe thead th {\n",
       "        text-align: right;\n",
       "    }\n",
       "</style>\n",
       "<table border=\"1\" class=\"dataframe\">\n",
       "  <thead>\n",
       "    <tr style=\"text-align: right;\">\n",
       "      <th></th>\n",
       "      <th>anime_id</th>\n",
       "      <th>eng_version</th>\n",
       "      <th>Score</th>\n",
       "      <th>Genres</th>\n",
       "      <th>Episodes</th>\n",
       "      <th>Type</th>\n",
       "      <th>Premiered</th>\n",
       "      <th>Members</th>\n",
       "    </tr>\n",
       "  </thead>\n",
       "  <tbody>\n",
       "    <tr>\n",
       "      <th>5683</th>\n",
       "      <td>9253</td>\n",
       "      <td>Steins;Gate</td>\n",
       "      <td>9.11</td>\n",
       "      <td>Thriller, Sci-Fi</td>\n",
       "      <td>24</td>\n",
       "      <td>TV</td>\n",
       "      <td>Spring 2011</td>\n",
       "      <td>1771162</td>\n",
       "    </tr>\n",
       "  </tbody>\n",
       "</table>\n",
       "</div>"
      ],
      "text/plain": [
       "      anime_id  eng_version Score            Genres Episodes Type  \\\n",
       "5683      9253  Steins;Gate  9.11  Thriller, Sci-Fi       24   TV   \n",
       "\n",
       "        Premiered  Members  \n",
       "5683  Spring 2011  1771162  "
      ]
     },
     "execution_count": 58,
     "metadata": {},
     "output_type": "execute_result"
    }
   ],
   "source": [
    "getAnimeFrame(\"Steins;Gate\",df)"
   ]
  },
  {
   "cell_type": "code",
   "execution_count": null,
   "metadata": {},
   "outputs": [],
   "source": []
  },
  {
   "cell_type": "markdown",
   "metadata": {},
   "source": [
    "#### ANIME_WITH_SYNOPSIS.CSV "
   ]
  },
  {
   "cell_type": "code",
   "execution_count": 59,
   "metadata": {},
   "outputs": [],
   "source": [
    "cols = [\"MAL_ID\",\"Name\",\"Genres\",\"sypnopsis\"]"
   ]
  },
  {
   "cell_type": "code",
   "execution_count": 60,
   "metadata": {},
   "outputs": [],
   "source": [
    "synopsis_df = pd.read_csv(INPUT_DIR+\"/anime_with_synopsis.csv\",usecols=cols)"
   ]
  },
  {
   "cell_type": "code",
   "execution_count": 61,
   "metadata": {},
   "outputs": [
    {
     "data": {
      "text/html": [
       "<div>\n",
       "<style scoped>\n",
       "    .dataframe tbody tr th:only-of-type {\n",
       "        vertical-align: middle;\n",
       "    }\n",
       "\n",
       "    .dataframe tbody tr th {\n",
       "        vertical-align: top;\n",
       "    }\n",
       "\n",
       "    .dataframe thead th {\n",
       "        text-align: right;\n",
       "    }\n",
       "</style>\n",
       "<table border=\"1\" class=\"dataframe\">\n",
       "  <thead>\n",
       "    <tr style=\"text-align: right;\">\n",
       "      <th></th>\n",
       "      <th>MAL_ID</th>\n",
       "      <th>Name</th>\n",
       "      <th>Genres</th>\n",
       "      <th>sypnopsis</th>\n",
       "    </tr>\n",
       "  </thead>\n",
       "  <tbody>\n",
       "    <tr>\n",
       "      <th>0</th>\n",
       "      <td>1</td>\n",
       "      <td>Cowboy Bebop</td>\n",
       "      <td>Action, Adventure, Comedy, Drama, Sci-Fi, Space</td>\n",
       "      <td>In the year 2071, humanity has colonized sever...</td>\n",
       "    </tr>\n",
       "  </tbody>\n",
       "</table>\n",
       "</div>"
      ],
      "text/plain": [
       "   MAL_ID          Name                                           Genres  \\\n",
       "0       1  Cowboy Bebop  Action, Adventure, Comedy, Drama, Sci-Fi, Space   \n",
       "\n",
       "                                           sypnopsis  \n",
       "0  In the year 2071, humanity has colonized sever...  "
      ]
     },
     "execution_count": 61,
     "metadata": {},
     "output_type": "execute_result"
    }
   ],
   "source": [
    "synopsis_df.head(1)"
   ]
  },
  {
   "cell_type": "code",
   "execution_count": 62,
   "metadata": {},
   "outputs": [
    {
     "data": {
      "text/plain": [
       "Index(['MAL_ID', 'Name', 'Genres', 'sypnopsis'], dtype='object')"
      ]
     },
     "execution_count": 62,
     "metadata": {},
     "output_type": "execute_result"
    }
   ],
   "source": [
    "synopsis_df.columns"
   ]
  },
  {
   "cell_type": "code",
   "execution_count": 63,
   "metadata": {},
   "outputs": [],
   "source": [
    "def getSynopsis(anime,synopsis_df):\n",
    "    if isinstance(anime,int):\n",
    "        return synopsis_df[synopsis_df.MAL_ID == anime].sypnopsis.values[0]\n",
    "    if isinstance(anime,str):\n",
    "        return synopsis_df[synopsis_df.Name == anime].sypnopsis.values[0]\n",
    "    "
   ]
  },
  {
   "cell_type": "code",
   "execution_count": 64,
   "metadata": {},
   "outputs": [
    {
     "data": {
      "text/plain": [
       "\"Gabi Braun and Falco Grice have been training their entire lives to inherit one of the seven titans under Marley's control and aid their nation in eradicating the Eldians on Paradis. However, just as all seems well for the two cadets, their peace is suddenly shaken by the arrival of Eren Yeager and the remaining members of the Survey Corps. Having finally reached the Yeager family basement and learned about the dark history surrounding the titans, the Survey Corps has at long last found the answer they so desperately fought to uncover. With the truth now in their hands, the group set out for the world beyond the walls. In Shingeki no Kyojin: The Final Season , two utterly different worlds collide as each party pursues its own agenda in the long-awaited conclusion to Paradis' fight for freedom.\""
      ]
     },
     "execution_count": 64,
     "metadata": {},
     "output_type": "execute_result"
    }
   ],
   "source": [
    "getSynopsis(40028 , synopsis_df)"
   ]
  },
  {
   "cell_type": "code",
   "execution_count": 65,
   "metadata": {},
   "outputs": [
    {
     "data": {
      "text/plain": [
       "'The self-proclaimed mad scientist Rintarou Okabe rents out a room in a rickety old building in Akihabara, where he indulges himself in his hobby of inventing prospective \"future gadgets\" with fellow lab members: Mayuri Shiina, his air-headed childhood friend, and Hashida Itaru, a perverted hacker nicknamed \"Daru.\" The three pass the time by tinkering with their most promising contraption yet, a machine dubbed the \"Phone Microwave,\" which performs the strange function of morphing bananas into piles of green gel. Though miraculous in itself, the phenomenon doesn\\'t provide anything concrete in Okabe\\'s search for a scientific breakthrough; that is, until the lab members are spurred into action by a string of mysterious happenings before stumbling upon an unexpected success—the Phone Microwave can send emails to the past, altering the flow of history. Adapted from the critically acclaimed visual novel by 5pb. and Nitroplus, Steins;Gate takes Okabe through the depths of scientific theory and practicality. Forced across the diverging threads of past and present, Okabe must shoulder the burdens that come with holding the key to the realm of time.'"
      ]
     },
     "execution_count": 65,
     "metadata": {},
     "output_type": "execute_result"
    }
   ],
   "source": [
    "getSynopsis(\"Steins;Gate\",synopsis_df)"
   ]
  },
  {
   "cell_type": "markdown",
   "metadata": {},
   "source": [
    "### CONTENT/ITEM BASED RECOMMENDATION"
   ]
  },
  {
   "cell_type": "code",
   "execution_count": 66,
   "metadata": {},
   "outputs": [],
   "source": [
    "pd.set_option(\"max_colwidth\",None)"
   ]
  },
  {
   "cell_type": "code",
   "execution_count": 67,
   "metadata": {},
   "outputs": [],
   "source": [
    "def find_similar_animes(name, anime_weights, anime2anime_encoded, anime2anime_decoded, df, synopsis_df, n=10, return_dist=False, neg=False):\n",
    "    # Get the anime_id for the given name\n",
    "    index = getAnimeFrame(name, df).anime_id.values[0]\n",
    "    encoded_index = anime2anime_encoded.get(index)\n",
    "\n",
    "    if encoded_index is None:\n",
    "        raise ValueError(f\"Encoded index not found for anime ID: {index}\")\n",
    "\n",
    "    weights = anime_weights\n",
    "\n",
    "    # Compute the similarity distances\n",
    "    dists = np.dot(weights, weights[encoded_index])  # Ensure weights[encoded_index] is a 1D array\n",
    "    sorted_dists = np.argsort(dists)\n",
    "\n",
    "    n = n + 1\n",
    "\n",
    "    # Select closest or farthest based on 'neg' flag\n",
    "    if neg:\n",
    "        closest = sorted_dists[:n]\n",
    "    else:\n",
    "        closest = sorted_dists[-n:]\n",
    "\n",
    "    # Return distances and closest indices if requested\n",
    "    if return_dist:\n",
    "        return dists, closest\n",
    "\n",
    "    # Build the similarity array\n",
    "    SimilarityArr = []\n",
    "    for close in closest:\n",
    "        decoded_id = anime2anime_decoded.get(close)\n",
    "       \n",
    "\n",
    "       \n",
    "        anime_frame = getAnimeFrame(decoded_id, df)\n",
    "\n",
    "        anime_name = anime_frame.eng_version.values[0]\n",
    "        genre = anime_frame.Genres.values[0]\n",
    "        similarity = dists[close]\n",
    "   \n",
    "\n",
    "        SimilarityArr.append({\n",
    "            \"anime_id\": decoded_id,\n",
    "            \"name\": anime_name,\n",
    "            \"similarity\": similarity,\n",
    "            \"genre\": genre,\n",
    "        })\n",
    "       \n",
    "\n",
    "    # Create a DataFrame with results and sort by similarity\n",
    "    Frame = pd.DataFrame(SimilarityArr).sort_values(by=\"similarity\", ascending=False)\n",
    "    return Frame[Frame.anime_id != index].drop(['anime_id'], axis=1)\n"
   ]
  },
  {
   "cell_type": "code",
   "execution_count": null,
   "metadata": {},
   "outputs": [],
   "source": []
  },
  {
   "cell_type": "code",
   "execution_count": 68,
   "metadata": {},
   "outputs": [
    {
     "data": {
      "text/html": [
       "<div>\n",
       "<style scoped>\n",
       "    .dataframe tbody tr th:only-of-type {\n",
       "        vertical-align: middle;\n",
       "    }\n",
       "\n",
       "    .dataframe tbody tr th {\n",
       "        vertical-align: top;\n",
       "    }\n",
       "\n",
       "    .dataframe thead th {\n",
       "        text-align: right;\n",
       "    }\n",
       "</style>\n",
       "<table border=\"1\" class=\"dataframe\">\n",
       "  <thead>\n",
       "    <tr style=\"text-align: right;\">\n",
       "      <th></th>\n",
       "      <th>name</th>\n",
       "      <th>similarity</th>\n",
       "      <th>genre</th>\n",
       "    </tr>\n",
       "  </thead>\n",
       "  <tbody>\n",
       "    <tr>\n",
       "      <th>9</th>\n",
       "      <td>Horizon in the Middle of Nowhere II</td>\n",
       "      <td>0.374268</td>\n",
       "      <td>Action, Fantasy, Sci-Fi</td>\n",
       "    </tr>\n",
       "    <tr>\n",
       "      <th>8</th>\n",
       "      <td>Kumori Nochi Hare</td>\n",
       "      <td>0.352743</td>\n",
       "      <td>Drama, Kids</td>\n",
       "    </tr>\n",
       "    <tr>\n",
       "      <th>7</th>\n",
       "      <td>Someone's Gaze</td>\n",
       "      <td>0.325258</td>\n",
       "      <td>Drama, Slice of Life</td>\n",
       "    </tr>\n",
       "    <tr>\n",
       "      <th>6</th>\n",
       "      <td>Shin Hitou Meguri</td>\n",
       "      <td>0.316407</td>\n",
       "      <td>Hentai</td>\n",
       "    </tr>\n",
       "    <tr>\n",
       "      <th>5</th>\n",
       "      <td>Touhai Densetsu Akagi: Yami ni Maiorita Tensai</td>\n",
       "      <td>0.312430</td>\n",
       "      <td>Game, Psychological, Thriller, Seinen</td>\n",
       "    </tr>\n",
       "    <tr>\n",
       "      <th>4</th>\n",
       "      <td>Shin Skyers 5 EX</td>\n",
       "      <td>0.307574</td>\n",
       "      <td>Action, Sci-Fi</td>\n",
       "    </tr>\n",
       "    <tr>\n",
       "      <th>3</th>\n",
       "      <td>Fin-tan</td>\n",
       "      <td>0.301121</td>\n",
       "      <td>Comedy</td>\n",
       "    </tr>\n",
       "    <tr>\n",
       "      <th>2</th>\n",
       "      <td>Maken-ki! Secret Training</td>\n",
       "      <td>0.300063</td>\n",
       "      <td>Ecchi, Sports</td>\n",
       "    </tr>\n",
       "    <tr>\n",
       "      <th>1</th>\n",
       "      <td>Namakura Gatana: Kunoichi-hen</td>\n",
       "      <td>0.298721</td>\n",
       "      <td>Ecchi, Samurai</td>\n",
       "    </tr>\n",
       "    <tr>\n",
       "      <th>0</th>\n",
       "      <td>Shin Gengou Nyankogelion</td>\n",
       "      <td>0.297186</td>\n",
       "      <td>Sci-Fi, Music, Mecha</td>\n",
       "    </tr>\n",
       "  </tbody>\n",
       "</table>\n",
       "</div>"
      ],
      "text/plain": [
       "                                             name  similarity  \\\n",
       "9             Horizon in the Middle of Nowhere II    0.374268   \n",
       "8                               Kumori Nochi Hare    0.352743   \n",
       "7                                  Someone's Gaze    0.325258   \n",
       "6                               Shin Hitou Meguri    0.316407   \n",
       "5  Touhai Densetsu Akagi: Yami ni Maiorita Tensai    0.312430   \n",
       "4                                Shin Skyers 5 EX    0.307574   \n",
       "3                                         Fin-tan    0.301121   \n",
       "2                       Maken-ki! Secret Training    0.300063   \n",
       "1                   Namakura Gatana: Kunoichi-hen    0.298721   \n",
       "0                        Shin Gengou Nyankogelion    0.297186   \n",
       "\n",
       "                                   genre  \n",
       "9                Action, Fantasy, Sci-Fi  \n",
       "8                            Drama, Kids  \n",
       "7                   Drama, Slice of Life  \n",
       "6                                 Hentai  \n",
       "5  Game, Psychological, Thriller, Seinen  \n",
       "4                         Action, Sci-Fi  \n",
       "3                                 Comedy  \n",
       "2                          Ecchi, Sports  \n",
       "1                         Ecchi, Samurai  \n",
       "0                   Sci-Fi, Music, Mecha  "
      ]
     },
     "execution_count": 68,
     "metadata": {},
     "output_type": "execute_result"
    }
   ],
   "source": [
    "find_similar_animes(\n",
    "    \"Steins;Gate\",\n",
    "    anime_weights,\n",
    "    anime2anime_encoded,\n",
    "    anime2anime_decoded,\n",
    "    df,\n",
    "    synopsis_df,\n",
    ")"
   ]
  },
  {
   "cell_type": "markdown",
   "metadata": {},
   "source": [
    "### USER BASED RECOMMENDATION"
   ]
  },
  {
   "cell_type": "code",
   "execution_count": 69,
   "metadata": {},
   "outputs": [],
   "source": [
    "def find_similar_users(item_input , user_weights , user2user_encoded , user2user_decoded, n=10 , return_dist=False,neg=False):\n",
    "    try:\n",
    "        index=item_input\n",
    "        encoded_index = user2user_encoded.get(index)\n",
    "\n",
    "        weights = user_weights\n",
    "\n",
    "        dists = np.dot(weights,weights[encoded_index])\n",
    "        sorted_dists = np.argsort(dists)\n",
    "\n",
    "        n=n+1\n",
    "\n",
    "        if neg:\n",
    "            closest = sorted_dists[:n]\n",
    "        else:\n",
    "            closest = sorted_dists[-n:]\n",
    "            \n",
    "\n",
    "        if return_dist:\n",
    "            return dists,closest\n",
    "        \n",
    "        SimilarityArr = []\n",
    "\n",
    "        for close in closest:\n",
    "            similarity = dists[close]\n",
    "\n",
    "            if isinstance(item_input,int):\n",
    "                decoded_id = user2user_decoded.get(close)\n",
    "                SimilarityArr.append({\n",
    "                    \"similar_users\" : decoded_id,\n",
    "                    \"similarity\" : similarity\n",
    "                })\n",
    "        similar_users = pd.DataFrame(SimilarityArr).sort_values(by=\"similarity\",ascending=False)\n",
    "        similar_users = similar_users[similar_users.similar_users != item_input]\n",
    "        return similar_users\n",
    "    except Exception as e:\n",
    "        print(\"Error Occured\",e)\n",
    "\n",
    "        \n",
    "        "
   ]
  },
  {
   "cell_type": "code",
   "execution_count": 70,
   "metadata": {},
   "outputs": [
    {
     "data": {
      "text/html": [
       "<div>\n",
       "<style scoped>\n",
       "    .dataframe tbody tr th:only-of-type {\n",
       "        vertical-align: middle;\n",
       "    }\n",
       "\n",
       "    .dataframe tbody tr th {\n",
       "        vertical-align: top;\n",
       "    }\n",
       "\n",
       "    .dataframe thead th {\n",
       "        text-align: right;\n",
       "    }\n",
       "</style>\n",
       "<table border=\"1\" class=\"dataframe\">\n",
       "  <thead>\n",
       "    <tr style=\"text-align: right;\">\n",
       "      <th></th>\n",
       "      <th>similar_users</th>\n",
       "      <th>similarity</th>\n",
       "    </tr>\n",
       "  </thead>\n",
       "  <tbody>\n",
       "    <tr>\n",
       "      <th>9</th>\n",
       "      <td>4457</td>\n",
       "      <td>0.368562</td>\n",
       "    </tr>\n",
       "    <tr>\n",
       "      <th>8</th>\n",
       "      <td>12410</td>\n",
       "      <td>0.339000</td>\n",
       "    </tr>\n",
       "    <tr>\n",
       "      <th>7</th>\n",
       "      <td>2454</td>\n",
       "      <td>0.292660</td>\n",
       "    </tr>\n",
       "    <tr>\n",
       "      <th>6</th>\n",
       "      <td>5354</td>\n",
       "      <td>0.289189</td>\n",
       "    </tr>\n",
       "    <tr>\n",
       "      <th>5</th>\n",
       "      <td>1567</td>\n",
       "      <td>0.288765</td>\n",
       "    </tr>\n",
       "    <tr>\n",
       "      <th>4</th>\n",
       "      <td>4223</td>\n",
       "      <td>0.268755</td>\n",
       "    </tr>\n",
       "    <tr>\n",
       "      <th>3</th>\n",
       "      <td>1096</td>\n",
       "      <td>0.268071</td>\n",
       "    </tr>\n",
       "    <tr>\n",
       "      <th>2</th>\n",
       "      <td>14243</td>\n",
       "      <td>0.266394</td>\n",
       "    </tr>\n",
       "    <tr>\n",
       "      <th>1</th>\n",
       "      <td>9031</td>\n",
       "      <td>0.265053</td>\n",
       "    </tr>\n",
       "    <tr>\n",
       "      <th>0</th>\n",
       "      <td>6284</td>\n",
       "      <td>0.261694</td>\n",
       "    </tr>\n",
       "  </tbody>\n",
       "</table>\n",
       "</div>"
      ],
      "text/plain": [
       "   similar_users  similarity\n",
       "9           4457    0.368562\n",
       "8          12410    0.339000\n",
       "7           2454    0.292660\n",
       "6           5354    0.289189\n",
       "5           1567    0.288765\n",
       "4           4223    0.268755\n",
       "3           1096    0.268071\n",
       "2          14243    0.266394\n",
       "1           9031    0.265053\n",
       "0           6284    0.261694"
      ]
     },
     "execution_count": 70,
     "metadata": {},
     "output_type": "execute_result"
    }
   ],
   "source": [
    "find_similar_users(int(11880),user_weights,user2user_encoded,user2user_decoded)"
   ]
  },
  {
   "cell_type": "code",
   "execution_count": 71,
   "metadata": {},
   "outputs": [],
   "source": [
    "def showWordCloud(all_genres):\n",
    "    genres_cloud = WordCloud(width=700,height=400,background_color='white',colormap='gnuplot').generate_from_frequencies(all_genres)\n",
    "    plt.figure(figsize=(10,8))\n",
    "    plt.imshow(genres_cloud,interpolation=\"bilinear\")\n",
    "    plt.axis(\"off\")\n",
    "    plt.show()"
   ]
  },
  {
   "cell_type": "code",
   "execution_count": 72,
   "metadata": {},
   "outputs": [],
   "source": [
    "from collections import defaultdict"
   ]
  },
  {
   "cell_type": "code",
   "execution_count": 73,
   "metadata": {},
   "outputs": [
    {
     "data": {
      "text/html": [
       "<div>\n",
       "<style scoped>\n",
       "    .dataframe tbody tr th:only-of-type {\n",
       "        vertical-align: middle;\n",
       "    }\n",
       "\n",
       "    .dataframe tbody tr th {\n",
       "        vertical-align: top;\n",
       "    }\n",
       "\n",
       "    .dataframe thead th {\n",
       "        text-align: right;\n",
       "    }\n",
       "</style>\n",
       "<table border=\"1\" class=\"dataframe\">\n",
       "  <thead>\n",
       "    <tr style=\"text-align: right;\">\n",
       "      <th></th>\n",
       "      <th>anime_id</th>\n",
       "      <th>eng_version</th>\n",
       "      <th>Score</th>\n",
       "      <th>Genres</th>\n",
       "      <th>Episodes</th>\n",
       "      <th>Type</th>\n",
       "      <th>Premiered</th>\n",
       "      <th>Members</th>\n",
       "    </tr>\n",
       "  </thead>\n",
       "  <tbody>\n",
       "    <tr>\n",
       "      <th>3971</th>\n",
       "      <td>5114</td>\n",
       "      <td>Fullmetal Alchemist:Brotherhood</td>\n",
       "      <td>9.19</td>\n",
       "      <td>Action, Military, Adventure, Comedy, Drama, Magic, Fantasy, Shounen</td>\n",
       "      <td>64</td>\n",
       "      <td>TV</td>\n",
       "      <td>Spring 2009</td>\n",
       "      <td>2248456</td>\n",
       "    </tr>\n",
       "  </tbody>\n",
       "</table>\n",
       "</div>"
      ],
      "text/plain": [
       "      anime_id                      eng_version Score  \\\n",
       "3971      5114  Fullmetal Alchemist:Brotherhood  9.19   \n",
       "\n",
       "                                                                   Genres  \\\n",
       "3971  Action, Military, Adventure, Comedy, Drama, Magic, Fantasy, Shounen   \n",
       "\n",
       "     Episodes Type    Premiered  Members  \n",
       "3971       64   TV  Spring 2009  2248456  "
      ]
     },
     "execution_count": 73,
     "metadata": {},
     "output_type": "execute_result"
    }
   ],
   "source": [
    "df.head(1)"
   ]
  },
  {
   "cell_type": "code",
   "execution_count": 74,
   "metadata": {},
   "outputs": [],
   "source": [
    "def getFavGenre(frame , plot=False):\n",
    "    frame.dropna(inplace=False)\n",
    "    all_genres = defaultdict(int)\n",
    "\n",
    "    genres_list = []\n",
    "    for genres in frame[\"Genres\"]:\n",
    "        if isinstance(genres,str):\n",
    "            for genre in genres.split(','):\n",
    "                genres_list.append(genre)\n",
    "                all_genres[genre.strip()] += 1\n",
    "\n",
    "    if plot:\n",
    "        showWordCloud(all_genres)\n",
    "    \n",
    "    return genres_list\n",
    "\n"
   ]
  },
  {
   "cell_type": "code",
   "execution_count": 75,
   "metadata": {},
   "outputs": [
    {
     "data": {
      "text/html": [
       "<div>\n",
       "<style scoped>\n",
       "    .dataframe tbody tr th:only-of-type {\n",
       "        vertical-align: middle;\n",
       "    }\n",
       "\n",
       "    .dataframe tbody tr th {\n",
       "        vertical-align: top;\n",
       "    }\n",
       "\n",
       "    .dataframe thead th {\n",
       "        text-align: right;\n",
       "    }\n",
       "</style>\n",
       "<table border=\"1\" class=\"dataframe\">\n",
       "  <thead>\n",
       "    <tr style=\"text-align: right;\">\n",
       "      <th></th>\n",
       "      <th>user_id</th>\n",
       "      <th>anime_id</th>\n",
       "      <th>rating</th>\n",
       "      <th>user</th>\n",
       "      <th>anime</th>\n",
       "    </tr>\n",
       "  </thead>\n",
       "  <tbody>\n",
       "    <tr>\n",
       "      <th>0</th>\n",
       "      <td>457</td>\n",
       "      <td>18153</td>\n",
       "      <td>0.9</td>\n",
       "      <td>120</td>\n",
       "      <td>1377</td>\n",
       "    </tr>\n",
       "    <tr>\n",
       "      <th>1</th>\n",
       "      <td>4903</td>\n",
       "      <td>20507</td>\n",
       "      <td>0.7</td>\n",
       "      <td>1195</td>\n",
       "      <td>1216</td>\n",
       "    </tr>\n",
       "  </tbody>\n",
       "</table>\n",
       "</div>"
      ],
      "text/plain": [
       "   user_id  anime_id  rating  user  anime\n",
       "0      457     18153     0.9   120   1377\n",
       "1     4903     20507     0.7  1195   1216"
      ]
     },
     "execution_count": 75,
     "metadata": {},
     "output_type": "execute_result"
    }
   ],
   "source": [
    "rating_df.head(2)"
   ]
  },
  {
   "cell_type": "code",
   "execution_count": 76,
   "metadata": {},
   "outputs": [],
   "source": [
    "def get_user_preferences(user_id , rating_df , df ,plot=False):\n",
    "\n",
    "    animes_watched_by_user = rating_df[rating_df.user_id == user_id]\n",
    "\n",
    "    user_rating_percentile = np.percentile(animes_watched_by_user.rating , 75)\n",
    "\n",
    "    animes_watched_by_user = animes_watched_by_user[animes_watched_by_user.rating >= user_rating_percentile]\n",
    "\n",
    "    top_animes_user = (\n",
    "        animes_watched_by_user.sort_values(by=\"rating\" , ascending=False).anime_id.values\n",
    "    )\n",
    "\n",
    "    anime_df_rows = df[df[\"anime_id\"].isin(top_animes_user)]\n",
    "    anime_df_rows = anime_df_rows[[\"eng_version\",\"Genres\"]]\n",
    "\n",
    "    if plot:\n",
    "        getFavGenre(anime_df_rows,plot)\n",
    "\n",
    "\n",
    "    return anime_df_rows\n",
    "\n",
    "\n"
   ]
  },
  {
   "cell_type": "code",
   "execution_count": 77,
   "metadata": {},
   "outputs": [
    {
     "data": {
      "image/png": "[encoded data removed]",
      "text/plain": [
       "<Figure size 1000x800 with 1 Axes>"
      ]
     },
     "metadata": {},
     "output_type": "display_data"
    },
    {
     "data": {
      "text/html": [
       "<div>\n",
       "<style scoped>\n",
       "    .dataframe tbody tr th:only-of-type {\n",
       "        vertical-align: middle;\n",
       "    }\n",
       "\n",
       "    .dataframe tbody tr th {\n",
       "        vertical-align: top;\n",
       "    }\n",
       "\n",
       "    .dataframe thead th {\n",
       "        text-align: right;\n",
       "    }\n",
       "</style>\n",
       "<table border=\"1\" class=\"dataframe\">\n",
       "  <thead>\n",
       "    <tr style=\"text-align: right;\">\n",
       "      <th></th>\n",
       "      <th>eng_version</th>\n",
       "      <th>Genres</th>\n",
       "    </tr>\n",
       "  </thead>\n",
       "  <tbody>\n",
       "    <tr>\n",
       "      <th>3971</th>\n",
       "      <td>Fullmetal Alchemist:Brotherhood</td>\n",
       "      <td>Action, Military, Adventure, Comedy, Drama, Magic, Fantasy, Shounen</td>\n",
       "    </tr>\n",
       "    <tr>\n",
       "      <th>9913</th>\n",
       "      <td>Gintama Season 4</td>\n",
       "      <td>Action, Comedy, Historical, Parody, Samurai, Sci-Fi, Shounen</td>\n",
       "    </tr>\n",
       "    <tr>\n",
       "      <th>6474</th>\n",
       "      <td>Hunter x Hunter</td>\n",
       "      <td>Action, Adventure, Fantasy, Shounen, Super Power</td>\n",
       "    </tr>\n",
       "    <tr>\n",
       "      <th>6006</th>\n",
       "      <td>Gintama Season 2</td>\n",
       "      <td>Action, Sci-Fi, Comedy, Historical, Parody, Samurai, Shounen</td>\n",
       "    </tr>\n",
       "    <tr>\n",
       "      <th>741</th>\n",
       "      <td>Legend of the Galactic Heroes</td>\n",
       "      <td>Military, Sci-Fi, Space, Drama</td>\n",
       "    </tr>\n",
       "    <tr>\n",
       "      <th>...</th>\n",
       "      <td>...</td>\n",
       "      <td>...</td>\n",
       "    </tr>\n",
       "    <tr>\n",
       "      <th>2575</th>\n",
       "      <td>Shootfighter Tekken</td>\n",
       "      <td>Action, Martial Arts, Shounen</td>\n",
       "    </tr>\n",
       "    <tr>\n",
       "      <th>8064</th>\n",
       "      <td>Samurai Flamenco</td>\n",
       "      <td>Action, Comedy, Parody, Super Power</td>\n",
       "    </tr>\n",
       "    <tr>\n",
       "      <th>510</th>\n",
       "      <td>Venus Wars</td>\n",
       "      <td>Action, Sci-Fi, Adventure, Space</td>\n",
       "    </tr>\n",
       "    <tr>\n",
       "      <th>6864</th>\n",
       "      <td>Saint Seiya Omega</td>\n",
       "      <td>Action, Adventure, Fantasy, Shounen</td>\n",
       "    </tr>\n",
       "    <tr>\n",
       "      <th>9796</th>\n",
       "      <td>Garo:Crimson Moon</td>\n",
       "      <td>Action, Demons, Fantasy, Magic, Supernatural</td>\n",
       "    </tr>\n",
       "  </tbody>\n",
       "</table>\n",
       "<p>190 rows × 2 columns</p>\n",
       "</div>"
      ],
      "text/plain": [
       "                          eng_version  \\\n",
       "3971  Fullmetal Alchemist:Brotherhood   \n",
       "9913                 Gintama Season 4   \n",
       "6474                  Hunter x Hunter   \n",
       "6006                 Gintama Season 2   \n",
       "741     Legend of the Galactic Heroes   \n",
       "...                               ...   \n",
       "2575              Shootfighter Tekken   \n",
       "8064                 Samurai Flamenco   \n",
       "510                        Venus Wars   \n",
       "6864                Saint Seiya Omega   \n",
       "9796                Garo:Crimson Moon   \n",
       "\n",
       "                                                                   Genres  \n",
       "3971  Action, Military, Adventure, Comedy, Drama, Magic, Fantasy, Shounen  \n",
       "9913         Action, Comedy, Historical, Parody, Samurai, Sci-Fi, Shounen  \n",
       "6474                     Action, Adventure, Fantasy, Shounen, Super Power  \n",
       "6006         Action, Sci-Fi, Comedy, Historical, Parody, Samurai, Shounen  \n",
       "741                                        Military, Sci-Fi, Space, Drama  \n",
       "...                                                                   ...  \n",
       "2575                                        Action, Martial Arts, Shounen  \n",
       "8064                                  Action, Comedy, Parody, Super Power  \n",
       "510                                      Action, Sci-Fi, Adventure, Space  \n",
       "6864                                  Action, Adventure, Fantasy, Shounen  \n",
       "9796                         Action, Demons, Fantasy, Magic, Supernatural  \n",
       "\n",
       "[190 rows x 2 columns]"
      ]
     },
     "execution_count": 77,
     "metadata": {},
     "output_type": "execute_result"
    }
   ],
   "source": [
    "get_user_preferences(11880 , rating_df, df , plot=True)"
   ]
  },
  {
   "cell_type": "code",
   "execution_count": null,
   "metadata": {},
   "outputs": [],
   "source": []
  },
  {
   "cell_type": "code",
   "execution_count": 78,
   "metadata": {},
   "outputs": [],
   "source": [
    "def get_user_recommendations(similar_users , user_pref ,df , synopsis_df, rating_df, n=10):\n",
    "\n",
    "    recommended_animes = []\n",
    "    anime_list = []\n",
    "\n",
    "    for user_id in similar_users.similar_users.values:\n",
    "        pref_list = get_user_preferences(int(user_id) , rating_df, df)\n",
    "\n",
    "        pref_list = pref_list[~pref_list.eng_version.isin(user_pref.eng_version.values)]\n",
    "\n",
    "        if not pref_list.empty:\n",
    "            anime_list.append(pref_list.eng_version.values)\n",
    "\n",
    "    if anime_list:\n",
    "            anime_list = pd.DataFrame(anime_list)\n",
    "\n",
    "            sorted_list = pd.DataFrame(pd.Series(anime_list.values.ravel()).value_counts()).head(n)\n",
    "\n",
    "            for i,anime_name in enumerate(sorted_list.index):\n",
    "                n_user_pref = sorted_list[sorted_list.index == anime_name].values[0][0]\n",
    "\n",
    "                if isinstance(anime_name,str):\n",
    "                    frame = getAnimeFrame(anime_name,df)\n",
    "                    anime_id = frame.anime_id.values[0]\n",
    "                    genre = frame.Genres.values[0]\n",
    "                    synopsis = getSynopsis(int(anime_id),synopsis_df)\n",
    "\n",
    "                    recommended_animes.append({\n",
    "                        \"n\" : n_user_pref,\n",
    "                        \"anime_name\" : anime_name,\n",
    "                        \"Genres\" : genre,\n",
    "                        \"Synopsis\": synopsis\n",
    "                    })\n",
    "    return pd.DataFrame(recommended_animes).head(n)\n",
    "            \n",
    "\n",
    "\n",
    "\n",
    "    "
   ]
  },
  {
   "cell_type": "code",
   "execution_count": 79,
   "metadata": {},
   "outputs": [],
   "source": [
    "similar_users =find_similar_users(int(11880),user_weights,user2user_encoded,user2user_decoded)"
   ]
  },
  {
   "cell_type": "code",
   "execution_count": 80,
   "metadata": {},
   "outputs": [],
   "source": [
    "user_pref = get_user_preferences(11880 , rating_df, df , plot=False)"
   ]
  },
  {
   "cell_type": "code",
   "execution_count": 81,
   "metadata": {},
   "outputs": [
    {
     "data": {
      "text/html": [
       "<div>\n",
       "<style scoped>\n",
       "    .dataframe tbody tr th:only-of-type {\n",
       "        vertical-align: middle;\n",
       "    }\n",
       "\n",
       "    .dataframe tbody tr th {\n",
       "        vertical-align: top;\n",
       "    }\n",
       "\n",
       "    .dataframe thead th {\n",
       "        text-align: right;\n",
       "    }\n",
       "</style>\n",
       "<table border=\"1\" class=\"dataframe\">\n",
       "  <thead>\n",
       "    <tr style=\"text-align: right;\">\n",
       "      <th></th>\n",
       "      <th>n</th>\n",
       "      <th>anime_name</th>\n",
       "      <th>Genres</th>\n",
       "      <th>Synopsis</th>\n",
       "    </tr>\n",
       "  </thead>\n",
       "  <tbody>\n",
       "    <tr>\n",
       "      <th>0</th>\n",
       "      <td>9</td>\n",
       "      <td>Nisekoi:False Love</td>\n",
       "      <td>Harem, Comedy, Romance, School, Shounen</td>\n",
       "      <td>aku Ichijou, a first-year student at Bonyari High School, is the sole heir to an intimidating yakuza family. Ten years ago, Raku made a promise to his childhood friend. Now, all he has to go on is a pendant with a lock, which can only be unlocked with the key which the girl took with her when they parted. Now, years later, Raku has grown into a typical teenager, and all he wants is to remain as uninvolved in his yakuza background as possible while spending his school days alongside his middle school crush Kosaki Onodera. However, when the American Bee Hive Gang invades his family's turf, Raku's idyllic romantic dreams are sent for a toss as he is dragged into a frustrating conflict: Raku is to pretend that he is in a romantic relationship with Chitoge Kirisaki, the beautiful daughter of the Bee Hive's chief, so as to reduce the friction between the two groups. Unfortunately, reality could not be farther from this whopping lie—Raku and Chitoge fall in hate at first sight, as the girl is convinced he is a pathetic pushover, and in Raku's eyes, Chitoge is about as attractive as a savage gorilla. Nisekoi follows the daily antics of this mismatched couple who have been forced to get along for the sake of maintaining the city's peace. With many more girls popping up his life, all involved with Raku's past somehow, his search for the girl who holds his heart and his promise leads him in more unexpected directions than he expects.</td>\n",
       "    </tr>\n",
       "  </tbody>\n",
       "</table>\n",
       "</div>"
      ],
      "text/plain": [
       "   n          anime_name                                   Genres  \\\n",
       "0  9  Nisekoi:False Love  Harem, Comedy, Romance, School, Shounen   \n",
       "\n",
       "                                                                                                                                                                                                                                                                                                                                                                                                                                                                                                                                                                                                                                                                                                                                                                                                                                                                                                                                                                                                                                                                                                                                                                                                                                                                                                                                                                                                                                                                                                 Synopsis  \n",
       "0  aku Ichijou, a first-year student at Bonyari High School, is the sole heir to an intimidating yakuza family. Ten years ago, Raku made a promise to his childhood friend. Now, all he has to go on is a pendant with a lock, which can only be unlocked with the key which the girl took with her when they parted. Now, years later, Raku has grown into a typical teenager, and all he wants is to remain as uninvolved in his yakuza background as possible while spending his school days alongside his middle school crush Kosaki Onodera. However, when the American Bee Hive Gang invades his family's turf, Raku's idyllic romantic dreams are sent for a toss as he is dragged into a frustrating conflict: Raku is to pretend that he is in a romantic relationship with Chitoge Kirisaki, the beautiful daughter of the Bee Hive's chief, so as to reduce the friction between the two groups. Unfortunately, reality could not be farther from this whopping lie—Raku and Chitoge fall in hate at first sight, as the girl is convinced he is a pathetic pushover, and in Raku's eyes, Chitoge is about as attractive as a savage gorilla. Nisekoi follows the daily antics of this mismatched couple who have been forced to get along for the sake of maintaining the city's peace. With many more girls popping up his life, all involved with Raku's past somehow, his search for the girl who holds his heart and his promise leads him in more unexpected directions than he expects.  "
      ]
     },
     "execution_count": 81,
     "metadata": {},
     "output_type": "execute_result"
    }
   ],
   "source": [
    "get_user_recommendations(similar_users,user_pref,df, synopsis_df,rating_df,n=1)"
   ]
  },
  {
   "cell_type": "markdown",
   "metadata": {},
   "source": [
    "### HYBRID RECOMMENDER SYSTEM"
   ]
  },
  {
   "cell_type": "code",
   "execution_count": 89,
   "metadata": {},
   "outputs": [],
   "source": [
    "def hybrid_recommendation(user_id , user_weight=0.4, content_weight =0.5):\n",
    "\n",
    "    ## User Recommndation\n",
    "\n",
    "    similar_users =find_similar_users(user_id,user_weights,user2user_encoded,user2user_decoded)\n",
    "    user_pref = get_user_preferences(user_id , rating_df, df)\n",
    "    user_recommended_animes =get_user_recommendations(similar_users,user_pref,df, synopsis_df,rating_df)\n",
    "    \n",
    "\n",
    "    user_recommended_anime_list = user_recommended_animes[\"anime_name\"].tolist()\n",
    "    print(user_recommended_anime_list)\n",
    "\n",
    "    #### Content recommendation\n",
    "    content_recommended_animes = []\n",
    "\n",
    "    for anime in user_recommended_anime_list:\n",
    "        similar_animes = find_similar_animes(anime, anime_weights, anime2anime_encoded, anime2anime_decoded, df, synopsis_df)\n",
    "\n",
    "        if similar_animes is not None and not similar_animes.empty:\n",
    "            content_recommended_animes.extend(similar_animes[\"name\"].tolist())\n",
    "        else:\n",
    "            print(f\"No similar anime found {anime}\")\n",
    "    \n",
    "    combined_scores = {}\n",
    "\n",
    "    for anime in user_recommended_anime_list:\n",
    "        combined_scores[anime] = combined_scores.get(anime,0) + user_weight\n",
    "\n",
    "    for anime in content_recommended_animes:\n",
    "        combined_scores[anime] = combined_scores.get(anime,0) + content_weight  \n",
    "\n",
    "    sorted_animes = sorted(combined_scores.items() , key=lambda x:x[1] , reverse=True)\n",
    "\n",
    "    return [anime for anime , score in sorted_animes[:10]] \n",
    "\n"
   ]
  },
  {
   "cell_type": "code",
   "execution_count": 90,
   "metadata": {},
   "outputs": [
    {
     "name": "stdout",
     "output_type": "stream",
     "text": [
      "['Bakuman.', 'Your Lie in April', 'Bungo Stray Dogs 2', 'No Game, No Life', 'Food Wars! Shokugeki no Soma', 'Mob Psycho 100', 'My Hero Academia', 'Terror in Resonance', 'Attack on Titan Season 3 Part 2', 'Is It Wrong to Try to Pick Up Girls in a Dungeon?']\n"
     ]
    },
    {
     "data": {
      "text/plain": [
       "['Wacky TV Na Na Na',\n",
       " 'World Fool News Part II',\n",
       " 'the Garden of sinners Chapter 5:Paradox Paradigm',\n",
       " 'A Journey Through Fairyland',\n",
       " 'Qin Shi Ming Yue: Yi Zhe Ru Shi',\n",
       " 'That is an UFO! The Flying Saucer',\n",
       " 'Mabeobsa-ui Adeul Cory',\n",
       " 'Spaceketeers',\n",
       " 'Skull-face Bookseller Honda-san',\n",
       " 'Yuukai Boushi Animation Eiga: Akazukin-chan Chanto Check']"
      ]
     },
     "execution_count": 90,
     "metadata": {},
     "output_type": "execute_result"
    }
   ],
   "source": [
    "hybrid_recommendation(13994)"
   ]
  },
  {
   "cell_type": "code",
   "execution_count": null,
   "metadata": {},
   "outputs": [],
   "source": []
  },
  {
   "cell_type": "code",
   "execution_count": null,
   "metadata": {},
   "outputs": [],
   "source": []
  },
  {
   "cell_type": "code",
   "execution_count": null,
   "metadata": {},
   "outputs": [],
   "source": []
  },
  {
   "cell_type": "code",
   "execution_count": null,
   "metadata": {},
   "outputs": [],
   "source": []
  },
  {
   "cell_type": "code",
   "execution_count": null,
   "metadata": {},
   "outputs": [],
   "source": []
  },
  {
   "cell_type": "markdown",
   "metadata": {},
   "source": []
  }
 ],
 "metadata": {
  "kernelspec": {
   "display_name": "venv",
   "language": "python",
   "name": "python3"
  },
  "language_info": {
   "codemirror_mode": {
    "name": "ipython",
    "version": 3
   },
   "file_extension": ".py",
   "mimetype": "text/x-python",
   "name": "python",
   "nbconvert_exporter": "python",
   "pygments_lexer": "ipython3",
   "version": "3.11.9"
  }
 },
 "nbformat": 4,
 "nbformat_minor": 2
}
